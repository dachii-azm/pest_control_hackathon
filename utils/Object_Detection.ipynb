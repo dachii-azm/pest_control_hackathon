{
 "cells": [
  {
   "cell_type": "code",
   "execution_count": 2,
   "id": "d811e498",
   "metadata": {},
   "outputs": [
    {
     "name": "stdout",
     "output_type": "stream",
     "text": [
      "/Users/daichiazuma/workspace/Project/pest_control_hackathon/sample_data/ハシボソガラス_9.jpg\n"
     ]
    }
   ],
   "source": [
    "import cv2\n",
    "import os\n",
    "\n",
    "img_dir = \"/Users/daichiazuma/workspace/Project/pest_control_hackathon/sample_data/\"\n",
    "imgs = [img for img in os.listdir(img_dir)]\n",
    "test_img_path = os.path.join(img_dir, imgs[0])\n",
    "print(test_img_path)    "
   ]
  },
  {
   "cell_type": "code",
   "execution_count": 4,
   "id": "6e784d94",
   "metadata": {},
   "outputs": [
    {
     "ename": "error",
     "evalue": "OpenCV(4.7.0) :-1: error: (-5:Bad argument) in function 'cvtColor'\n> Overload resolution failed:\n>  - src is not a numpy array, neither a scalar\n>  - Expected Ptr<cv::UMat> for argument 'src'\n",
     "output_type": "error",
     "traceback": [
      "\u001b[0;31m---------------------------------------------------------------------------\u001b[0m",
      "\u001b[0;31merror\u001b[0m                                     Traceback (most recent call last)",
      "Cell \u001b[0;32mIn[4], line 16\u001b[0m\n\u001b[1;32m     13\u001b[0m     pil_img \u001b[39m=\u001b[39m Image\u001b[39m.\u001b[39mfromarray(img_data)\n\u001b[1;32m     14\u001b[0m     display(pil_img)\n\u001b[0;32m---> 16\u001b[0m vis_img(test_img_path)\n",
      "Cell \u001b[0;32mIn[4], line 12\u001b[0m, in \u001b[0;36mvis_img\u001b[0;34m(img_path)\u001b[0m\n\u001b[1;32m     11\u001b[0m \u001b[39mdef\u001b[39;00m \u001b[39mvis_img\u001b[39m(img_path):\n\u001b[0;32m---> 12\u001b[0m     img_data \u001b[39m=\u001b[39m cv2\u001b[39m.\u001b[39;49mcvtColor(img_path, cv2\u001b[39m.\u001b[39;49mCOLOR_BGR2RGB)\n\u001b[1;32m     13\u001b[0m     pil_img \u001b[39m=\u001b[39m Image\u001b[39m.\u001b[39mfromarray(img_data)\n\u001b[1;32m     14\u001b[0m     display(pil_img)\n",
      "\u001b[0;31merror\u001b[0m: OpenCV(4.7.0) :-1: error: (-5:Bad argument) in function 'cvtColor'\n> Overload resolution failed:\n>  - src is not a numpy array, neither a scalar\n>  - Expected Ptr<cv::UMat> for argument 'src'\n"
     ]
    }
   ],
   "source": [
    "from PIL import Image\n",
    "from IPython.display import display, Image\n",
    "\n",
    "def vis_test(img_path):\n",
    "    img_data = cv2.imread(img_path, cv2.IMREAD_UNCHANGED)\n",
    "    cv2.namedWindow(\"Image1\", cv2.WINDOW_NORMAL)\n",
    "    cv2.imshow(\"Image1\", img_data)\n",
    "    cv2.waitKey()\n",
    "    cv2.destroyAllWindows()\n",
    "\n",
    "def vis_img(img_path):\n",
    "    img_data = cv2.cvtColor(img_path, cv2.COLOR_BGR2RGB)\n",
    "    pil_img = Image.fromarray(img_data)\n",
    "    display(pil_img)\n",
    "\n",
    "vis_img(test_img_path)"
   ]
  },
  {
   "cell_type": "code",
   "execution_count": null,
   "id": "edb7b136",
   "metadata": {},
   "outputs": [],
   "source": []
  }
 ],
 "metadata": {
  "kernelspec": {
   "display_name": "Python 3 (ipykernel)",
   "language": "python",
   "name": "python3"
  },
  "language_info": {
   "codemirror_mode": {
    "name": "ipython",
    "version": 3
   },
   "file_extension": ".py",
   "mimetype": "text/x-python",
   "name": "python",
   "nbconvert_exporter": "python",
   "pygments_lexer": "ipython3",
   "version": "3.11.2"
  }
 },
 "nbformat": 4,
 "nbformat_minor": 5
}
